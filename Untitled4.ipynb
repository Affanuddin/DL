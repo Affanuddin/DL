{
  "nbformat": 4,
  "nbformat_minor": 0,
  "metadata": {
    "colab": {
      "name": "Untitled4.ipynb",
      "provenance": [],
      "collapsed_sections": []
    },
    "kernelspec": {
      "name": "python3",
      "display_name": "Python 3"
    }
  },
  "cells": [
    {
      "cell_type": "code",
      "metadata": {
        "colab": {
          "base_uri": "https://localhost:8080/"
        },
        "id": "mKhDaES9LE1K",
        "outputId": "907bd8d0-f421-4c7e-b60a-f2a82d477b3a"
      },
      "source": [
        "import json\r\n",
        "import numpy as np\r\n",
        "import tensorflow as tf\r\n",
        "from tensorflow.keras.preprocessing.text import Tokenizer\r\n",
        "from tensorflow.keras.preprocessing.sequence import pad_sequences\r\n",
        "!wget --no-check-certificate \\\r\n",
        "    https://storage.googleapis.com/laurencemoroney-blog.appspot.com/sarcasm.json \\\r\n",
        "    -O /tmp/sarcasm.json\r\n",
        "vocab_size = 1000\r\n",
        "embedding_dim = 16\r\n",
        "max_length = 120\r\n",
        "trunc_type = 'post'\r\n",
        "padding_type = 'post'\r\n",
        "oov_tok = '<OOV>'\r\n",
        "training_size = 20000\r\n",
        "\r\n",
        "with open('/tmp/sarcasm.json', 'r') as f:\r\n",
        "  datastore = json.load(f)\r\n",
        "\r\n",
        "sentences = []\r\n",
        "labels = []\r\n",
        "urls = []\r\n",
        "for item in datastore:\r\n",
        "  sentences.append(item['headline'])\r\n",
        "  labels.append(item['is_sarcastic'])\r\n",
        "\r\n",
        "training_sentences = sentences[0:training_size]\r\n",
        "testing_sentences = sentences[training_size:]\r\n",
        "training_labels = labels[0:training_size]\r\n",
        "testing_labels = labels[training_size:]\r\n",
        "\r\n",
        "tokenizer = Tokenizer(num_words=vocab_size, oov_token=oov_tok)\r\n",
        "tokenizer.fit_on_texts(training_sentences)\r\n",
        "\r\n",
        "word_index = tokenizer.word_index\r\n",
        "\r\n",
        "training_sequences =  tokenizer.texts_to_sequences(training_sentences)\r\n",
        "training_padded = pad_sequences(training_sequences, maxlen = max_length, padding = padding_type, truncating = trunc_type)\r\n",
        "\r\n",
        "testing_sequences =  tokenizer.texts_to_sequences(testing_sentences)\r\n",
        "testing_padded = pad_sequences(testing_sequences, maxlen = max_length, padding = padding_type, truncating = trunc_type)\r\n",
        "\r\n",
        "training_sequences = np.array(training_sequences)\r\n",
        "training_padded = np.array(training_padded)\r\n",
        "testing_sequences = np.array(testing_sequences)\r\n",
        "testing_padded = np.array(testing_padded)\r\n",
        "training_labels = np.array(training_labels)\r\n",
        "testing_labels = np.array(testing_labels)\r\n",
        "\r\n",
        "model  = tf.keras.Sequential([\r\n",
        "                              tf.keras.layers.Embedding(vocab_size, embedding_dim, input_length=max_length),\r\n",
        "                              tf.keras.layers.Bidirectional(tf.keras.layers.LSTM(32)),\r\n",
        "                              tf.keras.layers.Dense(24, activation = 'relu'),\r\n",
        "                              tf.keras.layers.Dense(1, activation = 'sigmoid')\r\n",
        "])\r\n",
        "model.compile(loss = 'binary_crossentropy', optimizer='adam', metrics=['accuracy'])\r\n",
        "model.summary\r\n",
        "\r\n",
        "history = model.fit(training_padded, training_labels, epochs=5,  validation_data=(testing_padded, testing_labels))"
      ],
      "execution_count": 3,
      "outputs": [
        {
          "output_type": "stream",
          "text": [
            "--2020-12-23 13:38:38--  https://storage.googleapis.com/laurencemoroney-blog.appspot.com/sarcasm.json\n",
            "Resolving storage.googleapis.com (storage.googleapis.com)... 74.125.195.128, 74.125.142.128, 74.125.20.128, ...\n",
            "Connecting to storage.googleapis.com (storage.googleapis.com)|74.125.195.128|:443... connected.\n",
            "HTTP request sent, awaiting response... 200 OK\n",
            "Length: 5643545 (5.4M) [application/json]\n",
            "Saving to: ‘/tmp/sarcasm.json’\n",
            "\n",
            "\r/tmp/sarcasm.json     0%[                    ]       0  --.-KB/s               \r/tmp/sarcasm.json   100%[===================>]   5.38M  --.-KB/s    in 0.02s   \n",
            "\n",
            "2020-12-23 13:38:39 (248 MB/s) - ‘/tmp/sarcasm.json’ saved [5643545/5643545]\n",
            "\n"
          ],
          "name": "stdout"
        },
        {
          "output_type": "stream",
          "text": [
            "/usr/local/lib/python3.6/dist-packages/ipykernel_launcher.py:41: VisibleDeprecationWarning: Creating an ndarray from ragged nested sequences (which is a list-or-tuple of lists-or-tuples-or ndarrays with different lengths or shapes) is deprecated. If you meant to do this, you must specify 'dtype=object' when creating the ndarray\n",
            "/usr/local/lib/python3.6/dist-packages/ipykernel_launcher.py:43: VisibleDeprecationWarning: Creating an ndarray from ragged nested sequences (which is a list-or-tuple of lists-or-tuples-or ndarrays with different lengths or shapes) is deprecated. If you meant to do this, you must specify 'dtype=object' when creating the ndarray\n"
          ],
          "name": "stderr"
        },
        {
          "output_type": "stream",
          "text": [
            "Epoch 1/5\n",
            "625/625 [==============================] - 37s 54ms/step - loss: 0.5542 - accuracy: 0.6866 - val_loss: 0.3944 - val_accuracy: 0.8161\n",
            "Epoch 2/5\n",
            "625/625 [==============================] - 33s 53ms/step - loss: 0.3523 - accuracy: 0.8383 - val_loss: 0.3707 - val_accuracy: 0.8334\n",
            "Epoch 3/5\n",
            "625/625 [==============================] - 33s 53ms/step - loss: 0.3148 - accuracy: 0.8618 - val_loss: 0.3765 - val_accuracy: 0.8292\n",
            "Epoch 4/5\n",
            "625/625 [==============================] - 33s 53ms/step - loss: 0.3074 - accuracy: 0.8622 - val_loss: 0.3754 - val_accuracy: 0.8316\n",
            "Epoch 5/5\n",
            "625/625 [==============================] - 33s 53ms/step - loss: 0.2880 - accuracy: 0.8764 - val_loss: 0.3755 - val_accuracy: 0.8343\n"
          ],
          "name": "stdout"
        }
      ]
    },
    {
      "cell_type": "code",
      "metadata": {
        "colab": {
          "base_uri": "https://localhost:8080/",
          "height": 541
        },
        "id": "iifnCegkCdEf",
        "outputId": "7767d368-dabf-4d7c-9928-1514ce29e799"
      },
      "source": [
        "import matplotlib.pyplot as plt\r\n",
        "\r\n",
        "def plot_graphs(history, string):\r\n",
        "  plt.plot(history.history[string])\r\n",
        "  plt.plot(history.history['val_'+string])\r\n",
        "  plt.xlabel('Epochs')\r\n",
        "  plt.ylabel(string)\r\n",
        "  plt.legend([string, 'val_'+string])\r\n",
        "  plt.show()\r\n",
        "\r\n",
        "plot_graphs(history, 'accuracy')\r\n",
        "plot_graphs(history, 'loss')"
      ],
      "execution_count": 4,
      "outputs": [
        {
          "output_type": "display_data",
          "data": {
            "image/png": "[encoded data removed]",
            "text/plain": [
              "<Figure size 432x288 with 1 Axes>"
            ]
          },
          "metadata": {
            "tags": [],
            "needs_background": "light"
          }
        },
        {
          "output_type": "display_data",
          "data": {
            "image/png": "[encoded data removed]",
            "text/plain": [
              "<Figure size 432x288 with 1 Axes>"
            ]
          },
          "metadata": {
            "tags": [],
            "needs_background": "light"
          }
        }
      ]
    },
    {
      "cell_type": "code",
      "metadata": {
        "colab": {
          "base_uri": "https://localhost:8080/"
        },
        "id": "a_6ADmZ9Obp8",
        "outputId": "f4c34b23-0b82-424d-e1c8-5eca8843f275"
      },
      "source": [
        "\r\n",
        "import tensorflow as tf\r\n",
        "model  = tf.keras.Sequential([\r\n",
        "                              tf.keras.layers.Embedding(vocab_size, embedding_dim, input_length=max_length),\r\n",
        "                              tf.keras.layers.Conv1D(128, 5, activation='relu'),\r\n",
        "                              tf.keras.layers.GlobalMaxPooling1D(),\r\n",
        "                              tf.keras.layers.Dense(24, activation = 'relu'),\r\n",
        "                              tf.keras.layers.Dense(1, activation = 'sigmoid')\r\n",
        "])\r\n",
        "model.compile(loss = 'binary_crossentropy', optimizer='adam', metrics=['accuracy'])\r\n",
        "model.summary\r\n",
        "\r\n",
        "history = model.fit(training_padded, training_labels, epochs=30,  validation_data=(testing_padded, testing_labels))"
      ],
      "execution_count": 5,
      "outputs": [
        {
          "output_type": "stream",
          "text": [
            "Epoch 1/30\n",
            "625/625 [==============================] - 9s 13ms/step - loss: 0.5624 - accuracy: 0.6818 - val_loss: 0.4099 - val_accuracy: 0.8155\n",
            "Epoch 2/30\n",
            "625/625 [==============================] - 9s 14ms/step - loss: 0.3503 - accuracy: 0.8429 - val_loss: 0.4068 - val_accuracy: 0.8164\n",
            "Epoch 3/30\n",
            "625/625 [==============================] - 8s 12ms/step - loss: 0.3161 - accuracy: 0.8651 - val_loss: 0.3900 - val_accuracy: 0.8226\n",
            "Epoch 4/30\n",
            "625/625 [==============================] - 8s 12ms/step - loss: 0.2762 - accuracy: 0.8813 - val_loss: 0.4073 - val_accuracy: 0.8223\n",
            "Epoch 5/30\n",
            "625/625 [==============================] - 8s 13ms/step - loss: 0.2407 - accuracy: 0.8979 - val_loss: 0.4351 - val_accuracy: 0.8210\n",
            "Epoch 6/30\n",
            "625/625 [==============================] - 8s 13ms/step - loss: 0.2097 - accuracy: 0.9164 - val_loss: 0.4535 - val_accuracy: 0.8188\n",
            "Epoch 7/30\n",
            "625/625 [==============================] - 8s 13ms/step - loss: 0.1829 - accuracy: 0.9295 - val_loss: 0.5047 - val_accuracy: 0.8159\n",
            "Epoch 8/30\n",
            "625/625 [==============================] - 8s 13ms/step - loss: 0.1482 - accuracy: 0.9451 - val_loss: 0.5534 - val_accuracy: 0.8137\n",
            "Epoch 9/30\n",
            "625/625 [==============================] - 8s 12ms/step - loss: 0.1254 - accuracy: 0.9557 - val_loss: 0.6189 - val_accuracy: 0.8071\n",
            "Epoch 10/30\n",
            "625/625 [==============================] - 8s 12ms/step - loss: 0.1024 - accuracy: 0.9620 - val_loss: 0.6788 - val_accuracy: 0.8035\n",
            "Epoch 11/30\n",
            "625/625 [==============================] - 8s 13ms/step - loss: 0.0921 - accuracy: 0.9698 - val_loss: 0.7652 - val_accuracy: 0.7991\n",
            "Epoch 12/30\n",
            "625/625 [==============================] - 8s 13ms/step - loss: 0.0772 - accuracy: 0.9744 - val_loss: 0.8585 - val_accuracy: 0.8044\n",
            "Epoch 13/30\n",
            "625/625 [==============================] - 8s 12ms/step - loss: 0.0663 - accuracy: 0.9786 - val_loss: 0.9890 - val_accuracy: 0.7985\n",
            "Epoch 14/30\n",
            "625/625 [==============================] - 8s 12ms/step - loss: 0.0541 - accuracy: 0.9816 - val_loss: 1.1186 - val_accuracy: 0.7882\n",
            "Epoch 15/30\n",
            "625/625 [==============================] - 8s 12ms/step - loss: 0.0498 - accuracy: 0.9823 - val_loss: 1.0541 - val_accuracy: 0.7967\n",
            "Epoch 16/30\n",
            "625/625 [==============================] - 8s 12ms/step - loss: 0.0435 - accuracy: 0.9852 - val_loss: 1.1214 - val_accuracy: 0.7973\n",
            "Epoch 17/30\n",
            "625/625 [==============================] - 8s 12ms/step - loss: 0.0431 - accuracy: 0.9850 - val_loss: 1.2347 - val_accuracy: 0.7964\n",
            "Epoch 18/30\n",
            "625/625 [==============================] - 8s 12ms/step - loss: 0.0409 - accuracy: 0.9850 - val_loss: 1.4184 - val_accuracy: 0.7906\n",
            "Epoch 19/30\n",
            "625/625 [==============================] - 8s 13ms/step - loss: 0.0343 - accuracy: 0.9883 - val_loss: 1.3750 - val_accuracy: 0.8015\n",
            "Epoch 20/30\n",
            "625/625 [==============================] - 8s 13ms/step - loss: 0.0330 - accuracy: 0.9878 - val_loss: 1.3972 - val_accuracy: 0.7985\n",
            "Epoch 21/30\n",
            "625/625 [==============================] - 8s 13ms/step - loss: 0.0333 - accuracy: 0.9882 - val_loss: 1.5720 - val_accuracy: 0.7942\n",
            "Epoch 22/30\n",
            "625/625 [==============================] - 8s 13ms/step - loss: 0.0331 - accuracy: 0.9874 - val_loss: 1.5506 - val_accuracy: 0.7974\n",
            "Epoch 23/30\n",
            "625/625 [==============================] - 8s 13ms/step - loss: 0.0293 - accuracy: 0.9894 - val_loss: 1.5814 - val_accuracy: 0.7931\n",
            "Epoch 24/30\n",
            "625/625 [==============================] - 8s 13ms/step - loss: 0.0290 - accuracy: 0.9885 - val_loss: 1.6230 - val_accuracy: 0.7906\n",
            "Epoch 25/30\n",
            "625/625 [==============================] - 8s 13ms/step - loss: 0.0275 - accuracy: 0.9890 - val_loss: 1.6223 - val_accuracy: 0.7959\n",
            "Epoch 26/30\n",
            "625/625 [==============================] - 8s 13ms/step - loss: 0.0259 - accuracy: 0.9900 - val_loss: 1.6523 - val_accuracy: 0.7885\n",
            "Epoch 27/30\n",
            "625/625 [==============================] - 8s 13ms/step - loss: 0.0235 - accuracy: 0.9907 - val_loss: 1.8178 - val_accuracy: 0.7873\n",
            "Epoch 28/30\n",
            "625/625 [==============================] - 8s 13ms/step - loss: 0.0221 - accuracy: 0.9909 - val_loss: 1.7779 - val_accuracy: 0.7883\n",
            "Epoch 29/30\n",
            "625/625 [==============================] - 8s 13ms/step - loss: 0.0269 - accuracy: 0.9895 - val_loss: 1.9617 - val_accuracy: 0.7888\n",
            "Epoch 30/30\n",
            "625/625 [==============================] - 8s 13ms/step - loss: 0.0263 - accuracy: 0.9893 - val_loss: 1.8212 - val_accuracy: 0.7928\n"
          ],
          "name": "stdout"
        }
      ]
    },
    {
      "cell_type": "code",
      "metadata": {
        "id": "Rg3hvwIZ3Sl4"
      },
      "source": [
        ""
      ],
      "execution_count": null,
      "outputs": []
    }
  ]
}